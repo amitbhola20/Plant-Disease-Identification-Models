{
  "cells": [
    {
      "cell_type": "markdown",
      "metadata": {
        "id": "view-in-github",
        "colab_type": "text"
      },
      "source": [
        "<a href=\"https://colab.research.google.com/github/amitbhola20/Plant-Disease-Identification-Models/blob/main/Xception.ipynb\" target=\"_parent\"><img src=\"https://colab.research.google.com/assets/colab-badge.svg\" alt=\"Open In Colab\"/></a>"
      ]
    },
    {
      "cell_type": "code",
      "execution_count": null,
      "metadata": {
        "id": "W-WxvYNvcMIQ"
      },
      "outputs": [],
      "source": [
        "from google.colab import drive\n",
        "drive.mount('/content/drive')"
      ]
    },
    {
      "cell_type": "code",
      "execution_count": null,
      "metadata": {
        "id": "RgRfbx0_71J0"
      },
      "outputs": [],
      "source": [
        "import numpy as np\n",
        "import pandas as pd\n",
        "import matplotlib.pyplot as plt\n",
        "import glob\n",
        "import cv2\n",
        "import os\n",
        "import seaborn as sns\n",
        "from keras.preprocessing import image\n",
        "from keras import applications\n",
        "import tensorflow as tf\n",
        "from keras.layers import Dense, Flatten, Dropout\n",
        "from keras.models import Model\n",
        "import itertools\n",
        "from sklearn.metrics import confusion_matrix\n",
        "from sklearn.metrics import classification_report\n",
        "from keras.preprocessing.image import ImageDataGenerator"
      ]
    },
    {
      "cell_type": "code",
      "execution_count": null,
      "metadata": {
        "id": "w4PGRM9n8Ig1"
      },
      "outputs": [],
      "source": [
        "# Read input images and assign labels based on folder names\n",
        "print(os.listdir(\"/content/drive/My Drive/Research/AgricultureDataset/\"))"
      ]
    },
    {
      "cell_type": "code",
      "execution_count": null,
      "metadata": {
        "id": "ujqo4nuNaanl"
      },
      "outputs": [],
      "source": [
        "# Resize images\n",
        "SIZE = 224"
      ]
    },
    {
      "cell_type": "code",
      "execution_count": null,
      "metadata": {
        "id": "U7icQKxm8hDG"
      },
      "outputs": [],
      "source": [
        "#Capture training data and labels into respective lists\n",
        "train_images = []\n",
        "train_labels = []\n",
        "\n",
        "for directory_path in glob.glob(\"/content/drive/MyDrive/Research/Data/train/*\"):\n",
        "    label = directory_path.split(\"/\")[-1]\n",
        "    print(label)\n",
        "    for img_path in glob.glob(os.path.join(directory_path, \"*\")):\n",
        "        # print(img_path)\n",
        "        img = cv2.imread(img_path, cv2.IMREAD_COLOR)\n",
        "        img = cv2.resize(img, (SIZE, SIZE))\n",
        "        img = cv2.cvtColor(img, cv2.COLOR_RGB2BGR)\n",
        "        train_images.append(img)\n",
        "        train_labels.append(label)\n",
        "\n",
        "#Convert lists to arrays\n",
        "train_images = np.array(train_images)\n",
        "train_labels = np.array(train_labels)"
      ]
    },
    {
      "cell_type": "code",
      "execution_count": null,
      "metadata": {
        "id": "kbwqGQP3CMEb"
      },
      "outputs": [],
      "source": [
        "# Capture test/validation data and labels into respective lists\n",
        "\n",
        "test_images = []\n",
        "test_labels = []\n",
        "for directory_path in glob.glob(\"/content/drive/MyDrive/Research/Data/test/*\"):\n",
        "    crop_label = directory_path.split(\"/\")[-1]\n",
        "    print(crop_label)\n",
        "    for img_path in glob.glob(os.path.join(directory_path, \"*\")):\n",
        "        img = cv2.imread(img_path, cv2.IMREAD_COLOR)\n",
        "        img = cv2.resize(img, (SIZE, SIZE))\n",
        "        img = cv2.cvtColor(img, cv2.COLOR_RGB2BGR)\n",
        "        test_images.append(img)\n",
        "        test_labels.append(crop_label)\n",
        "\n",
        "#Convert lists to arrays\n",
        "test_images = np.array(test_images)\n",
        "test_labels = np.array(test_labels)"
      ]
    },
    {
      "cell_type": "code",
      "execution_count": null,
      "metadata": {
        "id": "ymgIQVlKEL20"
      },
      "outputs": [],
      "source": [
        "#Encode labels from text to integers.\n",
        "from sklearn import preprocessing\n",
        "le = preprocessing.LabelEncoder()\n",
        "le.fit(test_labels)\n",
        "test_labels_encoded = le.transform(test_labels)\n",
        "le.fit(train_labels)\n",
        "train_labels_encoded = le.transform(train_labels)"
      ]
    },
    {
      "cell_type": "code",
      "execution_count": null,
      "metadata": {
        "id": "1GBVwShuEQsW"
      },
      "outputs": [],
      "source": [
        "#Split data into test and train datasets (already split but assigning to meaningful convention)\n",
        "X_train, y_train, X_test, y_test = train_images, train_labels_encoded, test_images, test_labels_encoded"
      ]
    },
    {
      "cell_type": "code",
      "execution_count": null,
      "metadata": {
        "id": "YJGYnD7fERQ3"
      },
      "outputs": [],
      "source": [
        " #Normalize pixel values to between 0 and 1\n",
        "X_train, X_test = X_train / 255.0, X_test / 255.0"
      ]
    },
    {
      "cell_type": "code",
      "source": [
        "#Load model without classifier/fully connected layers\n",
        "model_Xception = tf.keras.applications.Xception(input_shape=(224, 224,3), weights='imagenet', include_top=False)\n",
        "\n",
        "#Make loaded layers as non-trainable. This is important as we want to work with pre-trained weights\n",
        "for layer in model_Xception.layers:\n",
        "\tlayer.trainable = False\n",
        "\n",
        "model_Xception.summary()  #Trainable parameters will be 0\n",
        "\n",
        "#Now, let us use features from convolutional network\n",
        "feature_extractor=model_Xception.predict(x_train)\n",
        "\n",
        "features = feature_extractor.reshape(feature_extractor.shape[0], -1)\n",
        "\n",
        "X_for_training = features #This is our X input to ML models.\n",
        "X_for_training.shape\n",
        "\n",
        "#Send test data through same feature extractor process\n",
        "X_test_feature = model_Xception.predict(x_test)\n",
        "X_test_features = X_test_feature.reshape(X_test_feature.shape[0], -1)"
      ],
      "metadata": {
        "id": "Oyn7fibcKRrO"
      },
      "execution_count": null,
      "outputs": []
    },
    {
      "cell_type": "markdown",
      "source": [
        "# Machine Learning Models"
      ],
      "metadata": {
        "id": "n5HVQiV33un1"
      }
    },
    {
      "cell_type": "markdown",
      "source": [
        "###Random forest"
      ],
      "metadata": {
        "id": "TcrXKHSDc_cy"
      }
    },
    {
      "cell_type": "code",
      "execution_count": null,
      "metadata": {
        "id": "K7u-EcBu4inj"
      },
      "outputs": [],
      "source": [
        "#RANDOM FOREST\n",
        "from sklearn.ensemble import RandomForestClassifier\n",
        "RF_model = RandomForestClassifier(n_estimators = 50, random_state = 42)"
      ]
    },
    {
      "cell_type": "code",
      "execution_count": null,
      "metadata": {
        "id": "mZ57OAOg4l2A"
      },
      "outputs": [],
      "source": [
        "# Train the model on training data\n",
        "RF_model.fit(X_for_training, y_train)"
      ]
    },
    {
      "cell_type": "code",
      "execution_count": null,
      "metadata": {
        "id": "Ddl7aytV4pc1"
      },
      "outputs": [],
      "source": [
        "#Now predict using the trained RF model.\n",
        "RF_prediction = RF_model.predict(X_test_features)\n",
        "#Inverse le transform to get original label back.\n",
        "RF_prediction = le.inverse_transform(RF_prediction)"
      ]
    },
    {
      "cell_type": "code",
      "execution_count": null,
      "metadata": {
        "id": "NlQX6JPg4rZu"
      },
      "outputs": [],
      "source": [
        "#Print overall accuracy\n",
        "from sklearn import metrics\n",
        "print (\"Accuracy = \", metrics.accuracy_score(test_labels, RF_prediction))"
      ]
    },
    {
      "cell_type": "code",
      "execution_count": null,
      "metadata": {
        "id": "AMOULvHO4r86"
      },
      "outputs": [],
      "source": [
        "#Confusion Matrix - verify accuracy of each class\n",
        "print('Classification Report')\n",
        "cm = confusion_matrix(test_labels, RF_prediction)\n",
        "print(cm)\n",
        "sns.heatmap(cm, annot=True)"
      ]
    },
    {
      "cell_type": "markdown",
      "source": [
        "  KNN"
      ],
      "metadata": {
        "id": "09xJyfVzeGK9"
      }
    },
    {
      "cell_type": "code",
      "execution_count": null,
      "metadata": {
        "id": "0JtUwLj7eE6O"
      },
      "outputs": [],
      "source": [
        "#KNN\n",
        "from sklearn.neighbors import KNeighborsClassifier\n",
        "knn = KNeighborsClassifier()"
      ]
    },
    {
      "cell_type": "code",
      "execution_count": null,
      "metadata": {
        "id": "W3QRxG3CesjE"
      },
      "outputs": [],
      "source": [
        "# Train the model on training data\n",
        "knn_model.fit(X_for_training, y_train)"
      ]
    },
    {
      "cell_type": "code",
      "execution_count": null,
      "metadata": {
        "id": "YM5J7wCvesjF"
      },
      "outputs": [],
      "source": [
        "#Now predict using the trained knn model.\n",
        "knn_prediction = knn_model.predict(X_test_features)\n",
        "#Inverse le transform to get original label back.\n",
        "knn_prediction = le.inverse_transform(knn_prediction)"
      ]
    },
    {
      "cell_type": "code",
      "execution_count": null,
      "metadata": {
        "id": "nckazn0_esjG"
      },
      "outputs": [],
      "source": [
        "#Print overall accuracy\n",
        "from sklearn import metrics\n",
        "print (\"Accuracy = \", metrics.accuracy_score(test_labels, knn_prediction))"
      ]
    },
    {
      "cell_type": "code",
      "execution_count": null,
      "metadata": {
        "id": "bvPGdoqaesjG"
      },
      "outputs": [],
      "source": [
        "#Confusion Matrix - verify accuracy of each class\n",
        "print('Classification Report')\n",
        "cm = confusion_matrix(test_labels, knn_prediction)\n",
        "print(cm)\n",
        "sns.heatmap(cm, annot=True)"
      ]
    },
    {
      "cell_type": "markdown",
      "source": [
        "###XGBoost"
      ],
      "metadata": {
        "id": "wePNSK3CgJK9"
      }
    },
    {
      "cell_type": "code",
      "source": [
        "#XGBOOST\n",
        "import xgboost as xgb\n",
        "XB = xgb.XGBClassifier()"
      ],
      "metadata": {
        "id": "CMgCSXUqhbnQ"
      },
      "execution_count": null,
      "outputs": []
    },
    {
      "cell_type": "code",
      "execution_count": null,
      "metadata": {
        "id": "zwHwL6aLgNLr"
      },
      "outputs": [],
      "source": [
        "# Train the model on training data\n",
        "XB_model.fit(X_for_training, y_train)"
      ]
    },
    {
      "cell_type": "code",
      "execution_count": null,
      "metadata": {
        "id": "eKYyZd0-gNLs"
      },
      "outputs": [],
      "source": [
        "#Now predict using the trained XB model.\n",
        "XB_prediction = XB_model.predict(X_test_features)\n",
        "#Inverse le transform to get original label back.\n",
        "XB_prediction = le.inverse_transform(XB_prediction)"
      ]
    },
    {
      "cell_type": "code",
      "execution_count": null,
      "metadata": {
        "id": "7hNxZ_wvgNLs"
      },
      "outputs": [],
      "source": [
        "#Print overall accuracy\n",
        "from sklearn import metrics\n",
        "print (\"Accuracy = \", metrics.accuracy_score(test_labels, XB_prediction))"
      ]
    },
    {
      "cell_type": "code",
      "execution_count": null,
      "metadata": {
        "id": "O7gawvvigNLt"
      },
      "outputs": [],
      "source": [
        "#Confusion Matrix - verify accuracy of each class\n",
        "print('Classification Report')\n",
        "cm = confusion_matrix(test_labels, XB_prediction)\n",
        "print(cm)\n",
        "sns.heatmap(cm, annot=True)"
      ]
    },
    {
      "cell_type": "markdown",
      "source": [
        "###Naive Bayes"
      ],
      "metadata": {
        "id": "t7oJKwaygzyN"
      }
    },
    {
      "cell_type": "code",
      "source": [
        "#NAIVE BAYES\n",
        "from sklearn.naive_bayes import GaussianNB\n",
        "NB = GaussianNB()"
      ],
      "metadata": {
        "id": "F4Lhr5gihReA"
      },
      "execution_count": null,
      "outputs": []
    },
    {
      "cell_type": "code",
      "execution_count": null,
      "metadata": {
        "id": "Mefh-sl5gzyO"
      },
      "outputs": [],
      "source": [
        "# Train the model on training data\n",
        "NB_model.fit(X_for_training, y_train)"
      ]
    },
    {
      "cell_type": "code",
      "execution_count": null,
      "metadata": {
        "id": "dC0EsbbWgzyO"
      },
      "outputs": [],
      "source": [
        "#Now predict using the trained NB model.\n",
        "NB_prediction = NB_model.predict(X_test_features)\n",
        "#Inverse le transform to get original label back.\n",
        "NB_prediction = le.inverse_transform(NB_prediction)"
      ]
    },
    {
      "cell_type": "code",
      "execution_count": null,
      "metadata": {
        "id": "hLsN6F7ZgzyO"
      },
      "outputs": [],
      "source": [
        "#Print overall accuracy\n",
        "from sklearn import metrics\n",
        "print (\"Accuracy = \", metrics.accuracy_score(test_labels, NB_prediction))"
      ]
    },
    {
      "cell_type": "code",
      "execution_count": null,
      "metadata": {
        "id": "J7WSSfSYgzyO"
      },
      "outputs": [],
      "source": [
        "#Confusion Matrix - verify accuracy of each class\n",
        "print('Classification Report')\n",
        "cm = confusion_matrix(test_labels, NB_prediction)\n",
        "print(cm)\n",
        "sns.heatmap(cm, annot=True)"
      ]
    },
    {
      "cell_type": "markdown",
      "source": [
        "###SVM"
      ],
      "metadata": {
        "id": "5mXR0AKphmq9"
      }
    },
    {
      "cell_type": "markdown",
      "source": [
        "SVM linear"
      ],
      "metadata": {
        "id": "Mnul0Kevkfvq"
      }
    },
    {
      "cell_type": "code",
      "source": [
        "from sklearn.svm import SVC\n",
        "SVM_linear = SVC(kernel = 'linear').fit(X_train, y_train)"
      ],
      "metadata": {
        "id": "gz1F7hEziSBi"
      },
      "execution_count": null,
      "outputs": []
    },
    {
      "cell_type": "code",
      "execution_count": null,
      "metadata": {
        "id": "9A2i9m0OiSBi"
      },
      "outputs": [],
      "source": [
        "# Train the model on training data\n",
        "SVM_linear_model.fit(X_for_training, y_train)"
      ]
    },
    {
      "cell_type": "code",
      "execution_count": null,
      "metadata": {
        "id": "VTOAxN_6iSBj"
      },
      "outputs": [],
      "source": [
        "#Now predict using the trained SVM_linear model.\n",
        "SVM_linear_prediction = SVM_linear_model.predict(X_test_features)\n",
        "#Inverse le transform to get original label back.\n",
        "SVM_linear_prediction = le.inverse_transform(SVM_linear_prediction)"
      ]
    },
    {
      "cell_type": "code",
      "execution_count": null,
      "metadata": {
        "id": "YIqg5M7JiSBj"
      },
      "outputs": [],
      "source": [
        "#Print overall accuracy\n",
        "from sklearn import metrics\n",
        "print (\"Accuracy = \", metrics.accuracy_score(test_labels, SVM_linear_prediction))"
      ]
    },
    {
      "cell_type": "code",
      "execution_count": null,
      "metadata": {
        "id": "6ScMH1-uiSBj"
      },
      "outputs": [],
      "source": [
        "#Confusion Matrix - verify accuracy of each class\n",
        "print('Classification Report')\n",
        "cm = confusion_matrix(test_labels, SVM_linear_prediction)\n",
        "print(cm)\n",
        "sns.heatmap(cm, annot=True)"
      ]
    },
    {
      "cell_type": "markdown",
      "source": [
        "SVM poly"
      ],
      "metadata": {
        "id": "767Nuot9kqLN"
      }
    },
    {
      "cell_type": "code",
      "source": [
        "from sklearn.svm import SVC\n",
        "SVM_poly = SVC(kernel = 'poly').fit(X_train, y_train)"
      ],
      "metadata": {
        "id": "nDF53AuykqLX"
      },
      "execution_count": null,
      "outputs": []
    },
    {
      "cell_type": "code",
      "execution_count": null,
      "metadata": {
        "id": "1q_GUPMFkqLY"
      },
      "outputs": [],
      "source": [
        "# Train the model on training data\n",
        "SVM_poly_model.fit(X_for_training, y_train)"
      ]
    },
    {
      "cell_type": "code",
      "execution_count": null,
      "metadata": {
        "id": "EB7YFFnrkqLZ"
      },
      "outputs": [],
      "source": [
        "#Now predict using the trained SVM_poly model.\n",
        "SVM_poly_prediction = SVM_poly_model.predict(X_test_features)\n",
        "#Inverse le transform to get original label back.\n",
        "SVM_poly_prediction = le.inverse_transform(SVM_poly_prediction)"
      ]
    },
    {
      "cell_type": "code",
      "execution_count": null,
      "metadata": {
        "id": "r7NbiJafkqLZ"
      },
      "outputs": [],
      "source": [
        "#Print overall accuracy\n",
        "from sklearn import metrics\n",
        "print (\"Accuracy = \", metrics.accuracy_score(test_labels, SVM_poly_prediction))"
      ]
    },
    {
      "cell_type": "code",
      "execution_count": null,
      "metadata": {
        "id": "DiTeuoM-kqLZ"
      },
      "outputs": [],
      "source": [
        "#Confusion Matrix - verify accuracy of each class\n",
        "print('Classification Report')\n",
        "cm = confusion_matrix(test_labels, SVM_poly_prediction)\n",
        "print(cm)\n",
        "sns.heatmap(cm, annot=True)"
      ]
    },
    {
      "cell_type": "markdown",
      "source": [
        "SVM rbf"
      ],
      "metadata": {
        "id": "Jcfv3UXJlPhu"
      }
    },
    {
      "cell_type": "code",
      "source": [
        "from sklearn.svm import SVC\n",
        "SVM_rbf = SVC(kernel = 'rbf').fit(X_train, y_train)"
      ],
      "metadata": {
        "id": "NTIaAweclPhu"
      },
      "execution_count": null,
      "outputs": []
    },
    {
      "cell_type": "code",
      "execution_count": null,
      "metadata": {
        "id": "JzJMAvJalPhv"
      },
      "outputs": [],
      "source": [
        "# Train the model on training data\n",
        "SVM_rbf_model.fit(X_for_training, y_train)"
      ]
    },
    {
      "cell_type": "code",
      "execution_count": null,
      "metadata": {
        "id": "2D5aCsH7lPhv"
      },
      "outputs": [],
      "source": [
        "#Now predict using the trained SVM_rbf model.\n",
        "SVM_rbf_prediction = SVM_rbf_model.predict(X_test_features)\n",
        "#Inverse le transform to get original label back.\n",
        "SVM_rbf_prediction = le.inverse_transform(SVM_rbf_prediction)"
      ]
    },
    {
      "cell_type": "code",
      "execution_count": null,
      "metadata": {
        "id": "0AGDOK02lPhv"
      },
      "outputs": [],
      "source": [
        "#Print overall accuracy\n",
        "from sklearn import metrics\n",
        "print (\"Accuracy = \", metrics.accuracy_score(test_labels, SVM_rbf_prediction))"
      ]
    },
    {
      "cell_type": "code",
      "execution_count": null,
      "metadata": {
        "id": "A2HonEuolPhv"
      },
      "outputs": [],
      "source": [
        "#Confusion Matrix - verify accuracy of each class\n",
        "print('Classification Report')\n",
        "cm = confusion_matrix(test_labels, SVM_rbf_prediction)\n",
        "print(cm)\n",
        "sns.heatmap(cm, annot=True)"
      ]
    },
    {
      "cell_type": "markdown",
      "source": [
        "###Decision Tree"
      ],
      "metadata": {
        "id": "7dtRGlG0GDpd"
      }
    },
    {
      "cell_type": "code",
      "execution_count": null,
      "metadata": {
        "id": "H33nCv6qGGuL"
      },
      "outputs": [],
      "source": [
        "#DECISION TREE\n",
        "from sklearn.ensemble import DecisionTreeClassifier\n",
        "DT_model = DecisionTreeClassifier(n_estimators = 50, random_state = 42)"
      ]
    },
    {
      "cell_type": "code",
      "execution_count": null,
      "metadata": {
        "id": "7JEcxzRTGGuM"
      },
      "outputs": [],
      "source": [
        "# Train the model on training data\n",
        "DT_model.fit(X_for_training, y_train)"
      ]
    },
    {
      "cell_type": "code",
      "execution_count": null,
      "metadata": {
        "id": "tiFy8x4OGGuM"
      },
      "outputs": [],
      "source": [
        "#Now predict using the trained DT model.\n",
        "DT_prediction = DT_model.predict(X_test_features)\n",
        "#Inverse le transform to get original label back.\n",
        "DT_prediction = le.inverse_transform(DT_prediction)"
      ]
    },
    {
      "cell_type": "code",
      "execution_count": null,
      "metadata": {
        "id": "rWjHTlYkGGuM"
      },
      "outputs": [],
      "source": [
        "#Print overall accuracy\n",
        "from sklearn import metrics\n",
        "print (\"Accuracy = \", metrics.accuracy_score(test_labels, DT_prediction))"
      ]
    },
    {
      "cell_type": "code",
      "execution_count": null,
      "metadata": {
        "id": "v7Yl9AyoGGuN"
      },
      "outputs": [],
      "source": [
        "#Confusion Matrix - verify accuracy of each class\n",
        "print('Classification Report')\n",
        "cm = confusion_matrix(test_labels, DT_prediction)\n",
        "print(cm)\n",
        "sns.heatmap(cm, annot=True)"
      ]
    },
    {
      "cell_type": "code",
      "source": [
        "#Print Train Accuracy\n",
        "dt_train_accuracy = DecisionTree.score(X_train,y_train)\n",
        "print(\"Training accuracy = \",DecisionTree.score(X_train,y_train))\n",
        "#Print Test Accuracy\n",
        "dt_test_accuracy = DecisionTree.score(X_test,y_test)\n",
        "print(\"Testing accuracy = \",DecisionTree.score(X_test,y_test))"
      ],
      "metadata": {
        "id": "eXPmi6SRkMPT"
      },
      "execution_count": null,
      "outputs": []
    }
  ],
  "metadata": {
    "colab": {
      "provenance": [],
      "gpuType": "T4",
      "mount_file_id": "1Qe9cOknDNOY4E_nZE-IfstvH5WEB4O14",
      "authorship_tag": "ABX9TyMAhsCv0oPzMqdKkn1dzN0p",
      "include_colab_link": true
    },
    "kernelspec": {
      "display_name": "Python 3",
      "name": "python3"
    },
    "language_info": {
      "name": "python"
    },
    "accelerator": "GPU"
  },
  "nbformat": 4,
  "nbformat_minor": 0
}